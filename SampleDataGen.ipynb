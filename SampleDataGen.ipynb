{
 "cells": [
  {
   "cell_type": "code",
   "execution_count": 64,
   "id": "857c1927",
   "metadata": {},
   "outputs": [],
   "source": [
    "import csv\n",
    "import random\n",
    "import string\n",
    "\n",
    "\n",
    "nameList = []\n",
    "\n",
    "for i in range(1, 10000):\n",
    "    nameLength = random.randint(1, 10)\n",
    "    name = ''.join(random.choice(string.ascii_uppercase + string.digits) for _ in range(nameLength))\n",
    "    nameList.append(name)\n",
    "    \n",
    "with open('recipes.csv', 'w', encoding='UTF8', newline='') as f:\n",
    "    header = ['recipeId', 'name', 'categories']\n",
    "    categories = ['sweet', 'sour', 'salty', 'bitter', 'savory', 'easy', 'medium', 'hard']\n",
    "    writer = csv.writer(f)\n",
    "    writer.writerow(header)\n",
    "    for i in range(1,10000):\n",
    "        features = random.sample(categories, random.randint(1,len(categories)))\n",
    "        temp = \"\"\n",
    "        for j in range(0,len(features)):\n",
    "            if j < len(features) - 1:\n",
    "                temp = temp + features[j] + \" | \"\n",
    "            else:\n",
    "                temp = temp + features[j]\n",
    "                \n",
    "        nameLength = random.randint(1, 10)\n",
    "        name = str(nameList[i-1])\n",
    "        data = [i, name, temp]\n",
    "        writer.writerow(data)\n",
    "\n",
    "    \n",
    "with open('ratings.csv', 'w', encoding='UTF8', newline='') as f:\n",
    "    header = [\"userId\", 'recipeId', 'name', 'rating']\n",
    "    writer = csv.writer(f)\n",
    "    writer.writerow(header)\n",
    "    for i in range(1,10000):\n",
    "        user = random.randint(1, 10000)\n",
    "        recipe = random.randint(1, 10000)\n",
    "        rating = random.randint(1,5)\n",
    "        name = str(nameList[recipe-1])\n",
    "        data = [user, recipe, name, rating]\n",
    "        writer.writerow(data)"
   ]
  },
  {
   "cell_type": "code",
   "execution_count": null,
   "id": "54886cb7",
   "metadata": {},
   "outputs": [],
   "source": []
  },
  {
   "cell_type": "code",
   "execution_count": null,
   "id": "41f1c1dd",
   "metadata": {},
   "outputs": [],
   "source": []
  }
 ],
 "metadata": {
  "kernelspec": {
   "display_name": "Python 3 (ipykernel)",
   "language": "python",
   "name": "python3"
  },
  "language_info": {
   "codemirror_mode": {
    "name": "ipython",
    "version": 3
   },
   "file_extension": ".py",
   "mimetype": "text/x-python",
   "name": "python",
   "nbconvert_exporter": "python",
   "pygments_lexer": "ipython3",
   "version": "3.9.12"
  }
 },
 "nbformat": 4,
 "nbformat_minor": 5
}
